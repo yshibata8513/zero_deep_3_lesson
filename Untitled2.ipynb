{
  "nbformat": 4,
  "nbformat_minor": 0,
  "metadata": {
    "colab": {
      "name": "Untitled2.ipynb",
      "provenance": [],
      "collapsed_sections": [],
      "include_colab_link": true
    },
    "kernelspec": {
      "name": "python3",
      "display_name": "Python 3"
    }
  },
  "cells": [
    {
      "cell_type": "markdown",
      "metadata": {
        "id": "view-in-github",
        "colab_type": "text"
      },
      "source": [
        "<a href=\"https://colab.research.google.com/github/yshibata8513/zero_deep_3_lesson/blob/master/Untitled2.ipynb\" target=\"_parent\"><img src=\"https://colab.research.google.com/assets/colab-badge.svg\" alt=\"Open In Colab\"/></a>"
      ]
    },
    {
      "cell_type": "code",
      "metadata": {
        "id": "wD9WQMu4jG4e",
        "colab_type": "code",
        "colab": {}
      },
      "source": [
        "import torch"
      ],
      "execution_count": 0,
      "outputs": []
    },
    {
      "cell_type": "code",
      "metadata": {
        "id": "C2PoVUEHmsdI",
        "colab_type": "code",
        "colab": {}
      },
      "source": [
        "class Function:\n",
        "  \n",
        "  def __call__(self,*x):\n",
        "    self.inputs = x\n",
        "    xs = [_x.data for _x in x]\n",
        "    _ys = self.forward(xs)\n",
        "    ys_ = [Variable(y) for y in _ys]\n",
        "    for y in ys_:\n",
        "      y.setcreator(self)\n",
        "    return ys_\n",
        "\n",
        "  def forward(self,*p):\n",
        "    raise NotImplementedError\n",
        "\n",
        "  def backward(self,*p):\n",
        "    raise NotImplementedError\n",
        "\n",
        "    "
      ],
      "execution_count": 0,
      "outputs": []
    },
    {
      "cell_type": "code",
      "metadata": {
        "id": "tuw1kPE9n4dA",
        "colab_type": "code",
        "colab": {}
      },
      "source": [
        "class Variable:\n",
        "  def __init__(self,data):\n",
        "    self.data = data\n",
        "\n",
        "  def set_creator(self,func):\n",
        "    self.creator = func\n",
        "\n",
        "  def backward(self,gy):\n",
        "    if self.grad == None:\n",
        "      self.grad = np.ones_like(self.data)\n",
        "    gy = self.grad\n",
        "    funcs = [self.creator]\n",
        "\n",
        "    while(funcs):\n",
        "      func = funcs.pop()\n",
        "      gxs = func.backward(gy)\n",
        "      for x,gx in zip(func.inputs,gxs):\n",
        "        x.grad = gx\n",
        "        if x.creator:\n",
        "          x.backward()\n",
        "\n"
      ],
      "execution_count": 0,
      "outputs": []
    }
  ]
}